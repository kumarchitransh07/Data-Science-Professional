{
    "cells": [
        {
            "metadata": {
                "collapsed": true
            },
            "cell_type": "markdown",
            "source": "# My Jupyter Notebook on IBM Watson Studio"
        },
        {
            "metadata": {},
            "cell_type": "markdown",
            "source": "**Kumar Chitransh**\n\nData Scientist"
        },
        {
            "metadata": {},
            "cell_type": "markdown",
            "source": "_I am interested in Data Science because I would love to boost up the growth of company by finding hidden insights in the future_"
        },
        {
            "metadata": {},
            "cell_type": "markdown",
            "source": "### The below should print 'Hello World'"
        },
        {
            "metadata": {},
            "cell_type": "code",
            "source": "print(\"Hello World!\")",
            "execution_count": 2,
            "outputs": [
                {
                    "output_type": "stream",
                    "text": "Hello World!\n",
                    "name": "stdout"
                }
            ]
        },
        {
            "metadata": {},
            "cell_type": "markdown",
            "source": "> The more I learn about things, I realise how wrong I was before.\n>\n - Sushant Singh Rajput\n - Kunal Shah\n\n<hr>\n\nMade with <3 [My Github](https://github.com/kumarchitransh7)\n"
        }
    ],
    "metadata": {
        "kernelspec": {
            "name": "python3",
            "display_name": "Python 3.7",
            "language": "python"
        },
        "language_info": {
            "name": "python",
            "version": "3.7.9",
            "mimetype": "text/x-python",
            "codemirror_mode": {
                "name": "ipython",
                "version": 3
            },
            "pygments_lexer": "ipython3",
            "nbconvert_exporter": "python",
            "file_extension": ".py"
        }
    },
    "nbformat": 4,
    "nbformat_minor": 1
}